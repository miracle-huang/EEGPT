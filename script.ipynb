{
 "cells": [
  {
   "cell_type": "code",
   "execution_count": null,
   "metadata": {
    "vscode": {
     "languageId": "plaintext"
    }
   },
   "outputs": [],
   "source": [
    "import pyedflib\n",
    "import numpy as np\n",
    "\n",
    "# 读取 .edf 文件\n",
    "edf_file = \"your_file.edf\"  # 你的 .edf 文件路径\n",
    "f = pyedflib.EdfReader(edf_file)\n",
    "\n",
    "# 获取基本信息\n",
    "num_signals = f.signals_in_file  # 信号通道数\n",
    "signal_labels = f.getSignalLabels()  # 各信号通道名称\n",
    "sample_frequencies = f.getSampleFrequencies()  # 每个通道的采样率\n",
    "\n",
    "print(\"信号通道数:\", num_signals)\n",
    "print(\"通道名称:\", signal_labels)\n",
    "print(\"采样率:\", sample_frequencies)\n",
    "\n",
    "# 读取每个信号通道的数据\n",
    "for i in range(num_signals):\n",
    "    signal = f.readSignal(i)  # 读取通道数据\n",
    "    print(f\"通道 {i} ({signal_labels[i]}) 数据长度: {len(signal)}\")\n",
    "    print(f\"前10个数据点: {signal[:10]}\")\n",
    "\n",
    "f.close()\n"
   ]
  }
 ],
 "metadata": {
  "language_info": {
   "name": "python"
  }
 },
 "nbformat": 4,
 "nbformat_minor": 2
}
